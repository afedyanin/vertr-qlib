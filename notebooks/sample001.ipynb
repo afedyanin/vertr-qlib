{
 "cells": [
  {
   "cell_type": "code",
   "id": "initial_id",
   "metadata": {
    "collapsed": true,
    "ExecuteTime": {
     "end_time": "2024-09-24T19:24:36.738552Z",
     "start_time": "2024-09-24T19:24:35.589336Z"
    }
   },
   "source": [
    "import QuantLib as ql\n",
    "import pandas as pd\n"
   ],
   "outputs": [],
   "execution_count": 2
  },
  {
   "metadata": {
    "ExecuteTime": {
     "end_time": "2024-09-24T19:24:38.455593Z",
     "start_time": "2024-09-24T19:24:38.451856Z"
    }
   },
   "cell_type": "code",
   "source": [
    "date = ql.Date(31, 3, 2015)\n",
    "print(date)"
   ],
   "id": "125a33a8d58a2dbb",
   "outputs": [
    {
     "name": "stdout",
     "output_type": "stream",
     "text": [
      "March 31st, 2015\n"
     ]
    }
   ],
   "execution_count": 3
  },
  {
   "metadata": {
    "ExecuteTime": {
     "end_time": "2024-09-24T19:25:00.832135Z",
     "start_time": "2024-09-24T19:25:00.825638Z"
    }
   },
   "cell_type": "code",
   "source": "date.weekday() == ql.Tuesday",
   "id": "8b485eefe3dbc451",
   "outputs": [
    {
     "data": {
      "text/plain": [
       "True"
      ]
     },
     "execution_count": 4,
     "metadata": {},
     "output_type": "execute_result"
    }
   ],
   "execution_count": 4
  },
  {
   "metadata": {
    "ExecuteTime": {
     "end_time": "2024-09-24T20:16:55.565202Z",
     "start_time": "2024-09-24T20:16:55.560896Z"
    }
   },
   "cell_type": "code",
   "source": [
    "russia_Calendar = ql.Russia()\n",
    "period = ql.Period(60, ql.Days)\n",
    "raw_date = date + period\n",
    "rus_date = russia_Calendar.advance(date, period)\n",
    "\n",
    "print(\"Add 60 days: {0}\".format(raw_date))\n",
    "print(\"Add 60 business days in RU: {0}\".format(rus_date))"
   ],
   "id": "747f2df3e8b8ac7f",
   "outputs": [
    {
     "name": "stdout",
     "output_type": "stream",
     "text": [
      "Add 60 days: May 30th, 2015\n",
      "Add 60 business days in RU: June 26th, 2015\n"
     ]
    }
   ],
   "execution_count": 8
  },
  {
   "metadata": {
    "ExecuteTime": {
     "end_time": "2024-09-24T20:13:44.299325Z",
     "start_time": "2024-09-24T20:13:44.282186Z"
    }
   },
   "cell_type": "code",
   "source": "print(russia_Calendar.MOEX)",
   "id": "fb1baa9511ec4906",
   "outputs": [
    {
     "name": "stdout",
     "output_type": "stream",
     "text": [
      "1\n"
     ]
    }
   ],
   "execution_count": 7
  },
  {
   "metadata": {
    "ExecuteTime": {
     "end_time": "2024-09-24T21:07:11.496059Z",
     "start_time": "2024-09-24T21:07:11.422203Z"
    }
   },
   "cell_type": "code",
   "source": [
    "# short stub in the front\n",
    "effective_date = ql.Date(1, 1, 2015)\n",
    "termination_date = ql.Date(1, 1, 2016)\n",
    "first_date = ql.Date(15, 1, 2015)\n",
    "tenor = ql.Period(ql.Monthly)\n",
    "calendar = ql.UnitedStates(ql.UnitedStates.GovernmentBond)\n",
    "business_convention = ql.Following\n",
    "termination_business_convention = ql.Following\n",
    "end_of_month = False\n",
    "\n",
    "schedule = ql.Schedule(\n",
    "    effective_date,\n",
    "    termination_date,\n",
    "    tenor,\n",
    "    calendar,\n",
    "    business_convention,\n",
    "    termination_business_convention,\n",
    "    ql.DateGeneration.Backward,\n",
    "    end_of_month,\n",
    "    first_date)\n",
    "\n",
    "pd.DataFrame({'date': list(schedule)})"
   ],
   "id": "d600c542cf1a6cbf",
   "outputs": [
    {
     "data": {
      "text/plain": [
       "                   date\n",
       "0     January 2nd, 2015\n",
       "1    January 15th, 2015\n",
       "2    February 2nd, 2015\n",
       "3       March 2nd, 2015\n",
       "4       April 1st, 2015\n",
       "5         May 1st, 2015\n",
       "6        June 1st, 2015\n",
       "7        July 1st, 2015\n",
       "8      August 3rd, 2015\n",
       "9   September 1st, 2015\n",
       "10    October 1st, 2015\n",
       "11   November 2nd, 2015\n",
       "12   December 1st, 2015\n",
       "13    January 4th, 2016"
      ],
      "text/html": [
       "<div>\n",
       "<style scoped>\n",
       "    .dataframe tbody tr th:only-of-type {\n",
       "        vertical-align: middle;\n",
       "    }\n",
       "\n",
       "    .dataframe tbody tr th {\n",
       "        vertical-align: top;\n",
       "    }\n",
       "\n",
       "    .dataframe thead th {\n",
       "        text-align: right;\n",
       "    }\n",
       "</style>\n",
       "<table border=\"1\" class=\"dataframe\">\n",
       "  <thead>\n",
       "    <tr style=\"text-align: right;\">\n",
       "      <th></th>\n",
       "      <th>date</th>\n",
       "    </tr>\n",
       "  </thead>\n",
       "  <tbody>\n",
       "    <tr>\n",
       "      <th>0</th>\n",
       "      <td>January 2nd, 2015</td>\n",
       "    </tr>\n",
       "    <tr>\n",
       "      <th>1</th>\n",
       "      <td>January 15th, 2015</td>\n",
       "    </tr>\n",
       "    <tr>\n",
       "      <th>2</th>\n",
       "      <td>February 2nd, 2015</td>\n",
       "    </tr>\n",
       "    <tr>\n",
       "      <th>3</th>\n",
       "      <td>March 2nd, 2015</td>\n",
       "    </tr>\n",
       "    <tr>\n",
       "      <th>4</th>\n",
       "      <td>April 1st, 2015</td>\n",
       "    </tr>\n",
       "    <tr>\n",
       "      <th>5</th>\n",
       "      <td>May 1st, 2015</td>\n",
       "    </tr>\n",
       "    <tr>\n",
       "      <th>6</th>\n",
       "      <td>June 1st, 2015</td>\n",
       "    </tr>\n",
       "    <tr>\n",
       "      <th>7</th>\n",
       "      <td>July 1st, 2015</td>\n",
       "    </tr>\n",
       "    <tr>\n",
       "      <th>8</th>\n",
       "      <td>August 3rd, 2015</td>\n",
       "    </tr>\n",
       "    <tr>\n",
       "      <th>9</th>\n",
       "      <td>September 1st, 2015</td>\n",
       "    </tr>\n",
       "    <tr>\n",
       "      <th>10</th>\n",
       "      <td>October 1st, 2015</td>\n",
       "    </tr>\n",
       "    <tr>\n",
       "      <th>11</th>\n",
       "      <td>November 2nd, 2015</td>\n",
       "    </tr>\n",
       "    <tr>\n",
       "      <th>12</th>\n",
       "      <td>December 1st, 2015</td>\n",
       "    </tr>\n",
       "    <tr>\n",
       "      <th>13</th>\n",
       "      <td>January 4th, 2016</td>\n",
       "    </tr>\n",
       "  </tbody>\n",
       "</table>\n",
       "</div>"
      ]
     },
     "execution_count": 9,
     "metadata": {},
     "output_type": "execute_result"
    }
   ],
   "execution_count": 9
  },
  {
   "metadata": {},
   "cell_type": "code",
   "outputs": [],
   "execution_count": null,
   "source": "",
   "id": "fac486fe328cde20"
  }
 ],
 "metadata": {
  "kernelspec": {
   "display_name": "Python 3",
   "language": "python",
   "name": "python3"
  },
  "language_info": {
   "codemirror_mode": {
    "name": "ipython",
    "version": 2
   },
   "file_extension": ".py",
   "mimetype": "text/x-python",
   "name": "python",
   "nbconvert_exporter": "python",
   "pygments_lexer": "ipython2",
   "version": "2.7.6"
  }
 },
 "nbformat": 4,
 "nbformat_minor": 5
}
